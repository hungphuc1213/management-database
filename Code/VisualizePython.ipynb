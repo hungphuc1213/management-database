{
 "cells": [
  {
   "cell_type": "markdown",
   "metadata": {},
   "source": [
    "## **INSTALL LIBRARY**"
   ]
  },
  {
   "cell_type": "code",
   "execution_count": null,
   "metadata": {},
   "outputs": [],
   "source": [
    "pip install plotly\n",
    "pip install pyodbc\n",
    "pip install dash"
   ]
  },
  {
   "cell_type": "markdown",
   "metadata": {},
   "source": [
    "## **IMPORT LIBRARY**"
   ]
  },
  {
   "cell_type": "code",
   "execution_count": 2,
   "metadata": {},
   "outputs": [],
   "source": [
    "from dash.dependencies import Input, Output\n",
    "from dash import Dash, html, dcc\n",
    "import pandas as pd\n",
    "import plotly.express as px\n",
    "import pyodbc"
   ]
  },
  {
   "cell_type": "markdown",
   "metadata": {},
   "source": [
    "## **PROCESSING DASHBOARD**"
   ]
  },
  {
   "cell_type": "markdown",
   "metadata": {},
   "source": [
    "### **Fetch Data**"
   ]
  },
  {
   "cell_type": "code",
   "execution_count": 3,
   "metadata": {},
   "outputs": [],
   "source": [
    "def fetch_data(query, connection):\n",
    "    \"\"\"\n",
    "    Truy vấn dữ liệu từ cơ sở dữ liệu.\n",
    "    \"\"\"\n",
    "    try:\n",
    "        df = pd.read_sql(query, connection)\n",
    "        print(f\"Truy vấn dữ liệu thành công: {query[:30]}...\")\n",
    "        return df\n",
    "    except Exception as e:\n",
    "        print(\"Lỗi truy vấn dữ liệu:\", e)\n",
    "        return None"
   ]
  },
  {
   "cell_type": "markdown",
   "metadata": {},
   "source": [
    "### **Stacked Bar Chart**"
   ]
  },
  {
   "cell_type": "code",
   "execution_count": 4,
   "metadata": {},
   "outputs": [],
   "source": [
    "def create_stacked_bar_chart(df):\n",
    "    \"\"\"\n",
    "    Tạo biểu đồ cột chồng từ dữ liệu.\n",
    "    \"\"\"\n",
    "    try:\n",
    "        fig = px.bar(\n",
    "            df,\n",
    "            x='GroupMajor',\n",
    "            y='Count_GroupMajor',\n",
    "            color='CAP_BAC',\n",
    "            title='Biểu đồ cột chồng: Count của GroupMajor theo CAP_BAC',\n",
    "            labels={'GroupMajor': 'Nhóm ngành', 'Count_GroupMajor': 'Số lượng', 'CAP_BAC': 'Cấp bậc'}\n",
    "        )\n",
    "        return fig\n",
    "    except Exception as e:\n",
    "        print(\"Lỗi tạo biểu đồ cột chồng:\", e)\n",
    "        return None"
   ]
  },
  {
   "cell_type": "markdown",
   "metadata": {},
   "source": [
    "### **Donut Chart**"
   ]
  },
  {
   "cell_type": "code",
   "execution_count": 5,
   "metadata": {},
   "outputs": [],
   "source": [
    "def create_donut_chart(df):\n",
    "    \"\"\"\n",
    "    Tạo biểu đồ donut từ dữ liệu.\n",
    "    \"\"\"\n",
    "    try:\n",
    "        fig = px.pie(\n",
    "            df,\n",
    "            names='Location',\n",
    "            values='Count_GroupMajor',\n",
    "            title='Biểu đồ Donut: Số lượng GroupMajor theo Location',\n",
    "            labels={'Location': 'Vị trí', 'Count_GroupMajor': 'Số lượng'}\n",
    "        )\n",
    "        fig.update_traces(hole=0.4)\n",
    "        return fig\n",
    "    except Exception as e:\n",
    "        print(\"Lỗi tạo biểu đồ donut:\", e)\n",
    "        return None\n"
   ]
  },
  {
   "cell_type": "markdown",
   "metadata": {},
   "source": [
    "### **Treemap Chart**"
   ]
  },
  {
   "cell_type": "code",
   "execution_count": 6,
   "metadata": {},
   "outputs": [],
   "source": [
    "def create_treemap_chart(df):\n",
    "    \"\"\"\n",
    "    Tạo biểu đồ treemap từ dữ liệu.\n",
    "    \"\"\"\n",
    "    try:\n",
    "        fig = px.treemap(\n",
    "            df,\n",
    "            path=['GroupMajor'],\n",
    "            values='Count_GroupMajor',\n",
    "            title='Biểu đồ Treemap: Số lượng GroupMajor',\n",
    "            labels={'GroupMajor': 'Nhóm ngành', 'Count_GroupMajor': 'Số lượng'}\n",
    "        )\n",
    "        fig.update_traces(textinfo='label+value')\n",
    "        return fig\n",
    "    except Exception as e:\n",
    "        print(\"Lỗi tạo biểu đồ treemap:\", e)\n",
    "        return None\n"
   ]
  },
  {
   "cell_type": "markdown",
   "metadata": {},
   "source": [
    "### **Line Chart**"
   ]
  },
  {
   "cell_type": "code",
   "execution_count": 7,
   "metadata": {},
   "outputs": [],
   "source": [
    "def create_line_chart(df):\n",
    "    \"\"\"\n",
    "    Tạo biểu đồ đường từ dữ liệu với hai trục y.\n",
    "    \"\"\"\n",
    "    try:\n",
    "        fig = px.line(\n",
    "            df,\n",
    "            x='GroupMajor',\n",
    "            y=['AVR_MinSalary', 'AVR_MaxSalary'],\n",
    "            title='Biểu đồ đường: Mức lương tối thiểu và tối đa theo GroupMajor',\n",
    "            labels={'GroupMajor': 'Nhóm ngành', 'value': 'Mức lương', 'variable': 'Loại lương'}\n",
    "        )\n",
    "        return fig\n",
    "    except Exception as e:\n",
    "        print(\"Lỗi tạo biểu đồ đường:\", e)\n",
    "        return None\n"
   ]
  },
  {
   "cell_type": "markdown",
   "metadata": {},
   "source": [
    "### **Slicer Chart and Layout**"
   ]
  },
  {
   "cell_type": "code",
   "execution_count": 8,
   "metadata": {},
   "outputs": [],
   "source": [
    "def create_dash_app_with_slicer(fig_bar, fig_donut, fig_treemap, fig_line, df_bar, df_donut, df_line):\n",
    "    \"\"\"\n",
    "    Tạo ứng dụng Dash với chức năng slicer dựa trên CAP_BAC và Location.\n",
    "    \"\"\"\n",
    "    cap_bac_options = [{'label': cap_bac, 'value': cap_bac} for cap_bac in df_bar['CAP_BAC'].unique()]\n",
    "    location_options = [{'label': location, 'value': location} for location in df_bar['Location'].unique()]\n",
    "\n",
    "    app = Dash(__name__, title='Phân tích tuyển dụng tại 3 tỉnh thành lớn ở Việt Nam')\n",
    "    app.layout = html.Div(\n",
    "        children=[\n",
    "            html.H1(\n",
    "                \"Tuyển dụng tại 3 tỉnh thành lớn\",\n",
    "                style={\n",
    "                    'textAlign': 'center',  # Căn giữa\n",
    "                    'color': '#007bff',  # Màu chữ\n",
    "                    'fontSize': '36px',  # Kích thước chữ\n",
    "                    'marginBottom': '20px',  # Khoảng cách bên dưới\n",
    "                    'border': '2px solid #007bff',  # Viền khung\n",
    "                    'padding': '10px',  # Khoảng cách giữa chữ và viền\n",
    "                    'borderRadius': '10px',  # Bo góc khung\n",
    "                    'width': '50%',  # Độ rộng khung\n",
    "                    'margin': '0 auto',  # Căn giữa khung\n",
    "                    'backgroundColor': '#f8f9fa'  # Nền nhạt cho khung\n",
    "                }\n",
    "            ),\n",
    "            html.Div(\n",
    "                children=[\n",
    "                    html.Label(\"Chọn cấp bậc:\"),\n",
    "                    dcc.Dropdown(\n",
    "                        id='slicer-dropdown-capbac',\n",
    "                        options=cap_bac_options,\n",
    "                        value=None,\n",
    "                        placeholder=\"Chọn cấp bậc để lọc...\",\n",
    "                        multi=False\n",
    "                    ),\n",
    "                    html.Label(\"Chọn vị trí:\"),\n",
    "                    dcc.Dropdown(\n",
    "                        id='slicer-dropdown-location',\n",
    "                        options=location_options,\n",
    "                        value=None,\n",
    "                        placeholder=\"Chọn vị trí để lọc...\",\n",
    "                        multi=False\n",
    "                    )\n",
    "                ],\n",
    "                style={'width': '30%', 'margin': '10px auto'}\n",
    "            ),\n",
    "            html.Div(\n",
    "                children=[\n",
    "                    html.Div(\n",
    "                        dcc.Graph(id='stacked-bar-chart', figure=fig_bar),\n",
    "                        style={'width': '48%', 'display': 'inline-block'}\n",
    "                    ),\n",
    "                    html.Div(\n",
    "                        dcc.Graph(id='donut-chart', figure=fig_donut),\n",
    "                        style={'width': '48%', 'display': 'inline-block'}\n",
    "                    )\n",
    "                ],\n",
    "                style={'display': 'flex', 'justify-content': 'space-between'}\n",
    "            ),\n",
    "            html.Div(\n",
    "                children=[\n",
    "                    html.Div(\n",
    "                        dcc.Graph(id='treemap-chart', figure=fig_treemap),\n",
    "                        style={'width': '48%', 'display': 'inline-block'}\n",
    "                    ),\n",
    "                    html.Div(\n",
    "                        dcc.Graph(id='line-chart', figure=fig_line),\n",
    "                        style={'width': '48%', 'display': 'inline-block'}\n",
    "                    )\n",
    "                ],\n",
    "                style={'display': 'flex', 'justify-content': 'space-between', 'margin-top': '20px'}\n",
    "            )\n",
    "        ]\n",
    "    )\n",
    "\n",
    "    @app.callback(\n",
    "        [\n",
    "            Output('stacked-bar-chart', 'figure'),\n",
    "            Output('donut-chart', 'figure'),\n",
    "            Output('treemap-chart', 'figure'),\n",
    "            Output('line-chart', 'figure')\n",
    "        ],\n",
    "        [\n",
    "            Input('slicer-dropdown-capbac', 'value'),\n",
    "            Input('slicer-dropdown-location', 'value')\n",
    "        ]\n",
    "    )\n",
    "    def update_charts(selected_cap_bac, selected_location):\n",
    "        filtered_df_bar = df_bar.copy()\n",
    "        filtered_df_donut = df_donut.copy()\n",
    "        filtered_df_line = df_line.copy()\n",
    "\n",
    "        if selected_cap_bac:\n",
    "            filtered_df_bar = filtered_df_bar[filtered_df_bar['CAP_BAC'] == selected_cap_bac]\n",
    "            filtered_df_donut = filtered_df_donut[filtered_df_donut['CAP_BAC'] == selected_cap_bac]\n",
    "\n",
    "        if selected_location:\n",
    "            filtered_df_bar = filtered_df_bar[filtered_df_bar['Location'] == selected_location]\n",
    "            filtered_df_donut = filtered_df_donut[filtered_df_donut['Location'] == selected_location]\n",
    "            filtered_df_line = filtered_df_line[filtered_df_line['GroupMajor'].isin(filtered_df_bar['GroupMajor'])]\n",
    "\n",
    "        bar_chart = create_stacked_bar_chart(filtered_df_bar)\n",
    "        donut_chart = create_donut_chart(filtered_df_donut)\n",
    "        treemap_chart = create_treemap_chart(filtered_df_bar)\n",
    "        line_chart = create_line_chart(filtered_df_line)\n",
    "\n",
    "        return bar_chart, donut_chart, treemap_chart, line_chart\n",
    "\n",
    "    return app\n"
   ]
  },
  {
   "cell_type": "markdown",
   "metadata": {},
   "source": [
    "### **Call Function, Connect and Querry**"
   ]
  },
  {
   "cell_type": "code",
   "execution_count": 9,
   "metadata": {},
   "outputs": [
    {
     "name": "stderr",
     "output_type": "stream",
     "text": [
      "C:\\Users\\HP\\AppData\\Local\\Temp\\ipykernel_20440\\109793085.py:6: UserWarning: pandas only supports SQLAlchemy connectable (engine/connection) or database string URI or sqlite3 DBAPI2 connection. Other DBAPI2 objects are not tested. Please consider using SQLAlchemy.\n",
      "  df = pd.read_sql(query, connection)\n"
     ]
    },
    {
     "name": "stdout",
     "output_type": "stream",
     "text": [
      "Truy vấn dữ liệu thành công: \n",
      "    SELECT \n",
      "        LUONG.Gro...\n",
      "Truy vấn dữ liệu thành công: \n",
      "    SELECT \n",
      "        LUONG.Loc...\n",
      "Truy vấn dữ liệu thành công: \n",
      "    SELECT \n",
      "        LUONG.Gro...\n"
     ]
    },
    {
     "data": {
      "text/html": [
       "\n",
       "        <iframe\n",
       "            width=\"100%\"\n",
       "            height=\"650\"\n",
       "            src=\"http://127.0.0.1:8050/\"\n",
       "            frameborder=\"0\"\n",
       "            allowfullscreen\n",
       "            \n",
       "        ></iframe>\n",
       "        "
      ],
      "text/plain": [
       "<IPython.lib.display.IFrame at 0x1c7cf33f7f0>"
      ]
     },
     "metadata": {},
     "output_type": "display_data"
    }
   ],
   "source": [
    "def main():\n",
    "    \"\"\"\n",
    "    Hàm chính để chạy ứng dụng.\n",
    "    \"\"\"\n",
    "    server = 'LAPTOP-KS80S7GT\\\\DATANQTHY'\n",
    "    database = 'DatabaseofGroup5'\n",
    "    driver = '{ODBC Driver 17 for SQL Server}'\n",
    "\n",
    "    connection_string = f\"DRIVER={driver};SERVER={server};DATABASE={database};Trusted_Connection=yes;\"\n",
    "    conn = pyodbc.connect(connection_string)\n",
    "\n",
    "    stacked_bar_query = \"\"\"\n",
    "    SELECT \n",
    "        LUONG.GroupMajor, \n",
    "        LUONG.Location,\n",
    "        NHANVIEN.CAP_BAC, \n",
    "        COUNT(LUONG.GroupMajor) AS Count_GroupMajor\n",
    "    FROM LUONG\n",
    "    JOIN NHANVIEN ON LUONG.Location = NHANVIEN.Location\n",
    "    GROUP BY LUONG.GroupMajor, LUONG.Location, NHANVIEN.CAP_BAC\n",
    "    \"\"\"\n",
    "\n",
    "    donut_query = \"\"\"\n",
    "    SELECT \n",
    "        LUONG.Location, \n",
    "        NHANVIEN.CAP_BAC, \n",
    "        COUNT(LUONG.GroupMajor) AS Count_GroupMajor\n",
    "    FROM LUONG\n",
    "    JOIN NHANVIEN ON LUONG.Location = NHANVIEN.Location\n",
    "    GROUP BY LUONG.Location, NHANVIEN.CAP_BAC\n",
    "    \"\"\"\n",
    "\n",
    "    line_chart_query = \"\"\"\n",
    "    SELECT \n",
    "        LUONG.GroupMajor, \n",
    "        AVG(LUONG.AVR_MinSalary) AS AVR_MinSalary,\n",
    "        AVG(LUONG.AVR_MaxSalary) AS AVR_MaxSalary\n",
    "    FROM LUONG\n",
    "    GROUP BY LUONG.GroupMajor\n",
    "    \"\"\"\n",
    "\n",
    "    df_bar = fetch_data(stacked_bar_query, conn)\n",
    "    df_donut = fetch_data(donut_query, conn)\n",
    "    df_line = fetch_data(line_chart_query, conn)\n",
    "\n",
    "    conn.close()\n",
    "\n",
    "    if df_bar is not None and df_donut is not None and df_line is not None:\n",
    "        fig_bar = create_stacked_bar_chart(df_bar)\n",
    "        fig_donut = create_donut_chart(df_donut)\n",
    "        fig_treemap = create_treemap_chart(df_bar)\n",
    "        fig_line = create_line_chart(df_line)\n",
    "\n",
    "        app = create_dash_app_with_slicer(fig_bar, fig_donut, fig_treemap, fig_line, df_bar, df_donut, df_line)\n",
    "        app.run_server(debug=True)\n",
    "\n",
    "if __name__ == \"__main__\":\n",
    "    main()\n"
   ]
  },
  {
   "cell_type": "code",
   "execution_count": null,
   "metadata": {},
   "outputs": [],
   "source": []
  }
 ],
 "metadata": {
  "kernelspec": {
   "display_name": "Python 3",
   "language": "python",
   "name": "python3"
  },
  "language_info": {
   "codemirror_mode": {
    "name": "ipython",
    "version": 3
   },
   "file_extension": ".py",
   "mimetype": "text/x-python",
   "name": "python",
   "nbconvert_exporter": "python",
   "pygments_lexer": "ipython3",
   "version": "3.9.2rc1"
  }
 },
 "nbformat": 4,
 "nbformat_minor": 2
}
