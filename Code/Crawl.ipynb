{
 "cells": [
  {
   "cell_type": "markdown",
   "id": "81d060f9",
   "metadata": {},
   "source": [
    "## **PIP INSTALL LIBRARY**"
   ]
  },
  {
   "cell_type": "code",
   "execution_count": null,
   "id": "bfdce822",
   "metadata": {},
   "outputs": [],
   "source": [
    "pip install selenium"
   ]
  },
  {
   "cell_type": "code",
   "execution_count": null,
   "id": "224f16d7",
   "metadata": {},
   "outputs": [],
   "source": [
    "pip install webdriver-manager"
   ]
  },
  {
   "cell_type": "markdown",
   "id": "50c02458",
   "metadata": {},
   "source": [
    "## **IMPORT LIBRARY**"
   ]
  },
  {
   "cell_type": "code",
   "execution_count": 2,
   "id": "47e60f02",
   "metadata": {},
   "outputs": [],
   "source": [
    "import pandas as pd\n",
    "from selenium.webdriver.common.by import By\n",
    "from selenium.webdriver.support.ui import WebDriverWait\n",
    "from selenium.webdriver.support import expected_conditions as EC\n",
    "from selenium import webdriver\n",
    "from selenium.webdriver.chrome.service import Service as ChromeService\n",
    "from selenium.webdriver.chrome.options import Options\n",
    "import pyodbc\n",
    "import time"
   ]
  },
  {
   "cell_type": "markdown",
   "id": "65369549",
   "metadata": {},
   "source": [
    "## **PROCESSING WEB CRAWLING**"
   ]
  },
  {
   "cell_type": "markdown",
   "id": "17615a1c",
   "metadata": {},
   "source": [
    "### **CONNECT WEBSITE**"
   ]
  },
  {
   "cell_type": "code",
   "execution_count": 3,
   "id": "e0bab063",
   "metadata": {},
   "outputs": [
    {
     "ename": "NoSuchDriverException",
     "evalue": "Message: Unable to obtain driver for chrome; For documentation on this error, please visit: https://www.selenium.dev/documentation/webdriver/troubleshooting/errors/driver_location\n",
     "output_type": "error",
     "traceback": [
      "\u001b[1;31m---------------------------------------------------------------------------\u001b[0m",
      "\u001b[1;31mValueError\u001b[0m                                Traceback (most recent call last)",
      "File \u001b[1;32mD:\\Jupyter Notebook\\Lib\\site-packages\\selenium\\webdriver\\common\\driver_finder.py:64\u001b[0m, in \u001b[0;36mDriverFinder._binary_paths\u001b[1;34m(self)\u001b[0m\n\u001b[0;32m     63\u001b[0m \u001b[38;5;28;01mif\u001b[39;00m \u001b[38;5;129;01mnot\u001b[39;00m Path(path)\u001b[38;5;241m.\u001b[39mis_file():\n\u001b[1;32m---> 64\u001b[0m     \u001b[38;5;28;01mraise\u001b[39;00m \u001b[38;5;167;01mValueError\u001b[39;00m(\u001b[38;5;124mf\u001b[39m\u001b[38;5;124m\"\u001b[39m\u001b[38;5;124mThe path is not a valid file: \u001b[39m\u001b[38;5;132;01m{\u001b[39;00mpath\u001b[38;5;132;01m}\u001b[39;00m\u001b[38;5;124m\"\u001b[39m)\n\u001b[0;32m     65\u001b[0m \u001b[38;5;28mself\u001b[39m\u001b[38;5;241m.\u001b[39m_paths[\u001b[38;5;124m\"\u001b[39m\u001b[38;5;124mdriver_path\u001b[39m\u001b[38;5;124m\"\u001b[39m] \u001b[38;5;241m=\u001b[39m path\n",
      "\u001b[1;31mValueError\u001b[0m: The path is not a valid file: C:\\Users\\ThinkPad\\OneDrive\\chromedriver-win64\\chromedriver.exe",
      "\nThe above exception was the direct cause of the following exception:\n",
      "\u001b[1;31mNoSuchDriverException\u001b[0m                     Traceback (most recent call last)",
      "Cell \u001b[1;32mIn[3], line 8\u001b[0m\n\u001b[0;32m      5\u001b[0m service \u001b[38;5;241m=\u001b[39m ChromeService(executable_path\u001b[38;5;241m=\u001b[39mchromedriver_path)\n\u001b[0;32m      7\u001b[0m \u001b[38;5;66;03m# Service và Options in ChromeDriver\u001b[39;00m\n\u001b[1;32m----> 8\u001b[0m driver_manual \u001b[38;5;241m=\u001b[39m webdriver\u001b[38;5;241m.\u001b[39mChrome(service\u001b[38;5;241m=\u001b[39mservice)\n\u001b[0;32m     10\u001b[0m \u001b[38;5;66;03m# Open Website\u001b[39;00m\n\u001b[0;32m     11\u001b[0m url \u001b[38;5;241m=\u001b[39m driver_manual\u001b[38;5;241m.\u001b[39mget(\u001b[38;5;124m\"\u001b[39m\u001b[38;5;124mhttps://careerviet.vn/viec-lam/ha-noi-ho-chi-minh-da-nang-l4,8,511-trang-1-vi.html\u001b[39m\u001b[38;5;124m\"\u001b[39m)\n",
      "File \u001b[1;32mD:\\Jupyter Notebook\\Lib\\site-packages\\selenium\\webdriver\\chrome\\webdriver.py:45\u001b[0m, in \u001b[0;36mWebDriver.__init__\u001b[1;34m(self, options, service, keep_alive)\u001b[0m\n\u001b[0;32m     42\u001b[0m service \u001b[38;5;241m=\u001b[39m service \u001b[38;5;28;01mif\u001b[39;00m service \u001b[38;5;28;01melse\u001b[39;00m Service()\n\u001b[0;32m     43\u001b[0m options \u001b[38;5;241m=\u001b[39m options \u001b[38;5;28;01mif\u001b[39;00m options \u001b[38;5;28;01melse\u001b[39;00m Options()\n\u001b[1;32m---> 45\u001b[0m \u001b[38;5;28msuper\u001b[39m()\u001b[38;5;241m.\u001b[39m\u001b[38;5;21m__init__\u001b[39m(\n\u001b[0;32m     46\u001b[0m     browser_name\u001b[38;5;241m=\u001b[39mDesiredCapabilities\u001b[38;5;241m.\u001b[39mCHROME[\u001b[38;5;124m\"\u001b[39m\u001b[38;5;124mbrowserName\u001b[39m\u001b[38;5;124m\"\u001b[39m],\n\u001b[0;32m     47\u001b[0m     vendor_prefix\u001b[38;5;241m=\u001b[39m\u001b[38;5;124m\"\u001b[39m\u001b[38;5;124mgoog\u001b[39m\u001b[38;5;124m\"\u001b[39m,\n\u001b[0;32m     48\u001b[0m     options\u001b[38;5;241m=\u001b[39moptions,\n\u001b[0;32m     49\u001b[0m     service\u001b[38;5;241m=\u001b[39mservice,\n\u001b[0;32m     50\u001b[0m     keep_alive\u001b[38;5;241m=\u001b[39mkeep_alive,\n\u001b[0;32m     51\u001b[0m )\n",
      "File \u001b[1;32mD:\\Jupyter Notebook\\Lib\\site-packages\\selenium\\webdriver\\chromium\\webdriver.py:50\u001b[0m, in \u001b[0;36mChromiumDriver.__init__\u001b[1;34m(self, browser_name, vendor_prefix, options, service, keep_alive)\u001b[0m\n\u001b[0;32m     47\u001b[0m \u001b[38;5;28mself\u001b[39m\u001b[38;5;241m.\u001b[39mservice \u001b[38;5;241m=\u001b[39m service\n\u001b[0;32m     49\u001b[0m finder \u001b[38;5;241m=\u001b[39m DriverFinder(\u001b[38;5;28mself\u001b[39m\u001b[38;5;241m.\u001b[39mservice, options)\n\u001b[1;32m---> 50\u001b[0m \u001b[38;5;28;01mif\u001b[39;00m finder\u001b[38;5;241m.\u001b[39mget_browser_path():\n\u001b[0;32m     51\u001b[0m     options\u001b[38;5;241m.\u001b[39mbinary_location \u001b[38;5;241m=\u001b[39m finder\u001b[38;5;241m.\u001b[39mget_browser_path()\n\u001b[0;32m     52\u001b[0m     options\u001b[38;5;241m.\u001b[39mbrowser_version \u001b[38;5;241m=\u001b[39m \u001b[38;5;28;01mNone\u001b[39;00m\n",
      "File \u001b[1;32mD:\\Jupyter Notebook\\Lib\\site-packages\\selenium\\webdriver\\common\\driver_finder.py:47\u001b[0m, in \u001b[0;36mDriverFinder.get_browser_path\u001b[1;34m(self)\u001b[0m\n\u001b[0;32m     46\u001b[0m \u001b[38;5;28;01mdef\u001b[39;00m \u001b[38;5;21mget_browser_path\u001b[39m(\u001b[38;5;28mself\u001b[39m) \u001b[38;5;241m-\u001b[39m\u001b[38;5;241m>\u001b[39m \u001b[38;5;28mstr\u001b[39m:\n\u001b[1;32m---> 47\u001b[0m     \u001b[38;5;28;01mreturn\u001b[39;00m \u001b[38;5;28mself\u001b[39m\u001b[38;5;241m.\u001b[39m_binary_paths()[\u001b[38;5;124m\"\u001b[39m\u001b[38;5;124mbrowser_path\u001b[39m\u001b[38;5;124m\"\u001b[39m]\n",
      "File \u001b[1;32mD:\\Jupyter Notebook\\Lib\\site-packages\\selenium\\webdriver\\common\\driver_finder.py:78\u001b[0m, in \u001b[0;36mDriverFinder._binary_paths\u001b[1;34m(self)\u001b[0m\n\u001b[0;32m     76\u001b[0m \u001b[38;5;28;01mexcept\u001b[39;00m \u001b[38;5;167;01mException\u001b[39;00m \u001b[38;5;28;01mas\u001b[39;00m err:\n\u001b[0;32m     77\u001b[0m     msg \u001b[38;5;241m=\u001b[39m \u001b[38;5;124mf\u001b[39m\u001b[38;5;124m\"\u001b[39m\u001b[38;5;124mUnable to obtain driver for \u001b[39m\u001b[38;5;132;01m{\u001b[39;00mbrowser\u001b[38;5;132;01m}\u001b[39;00m\u001b[38;5;124m\"\u001b[39m\n\u001b[1;32m---> 78\u001b[0m     \u001b[38;5;28;01mraise\u001b[39;00m NoSuchDriverException(msg) \u001b[38;5;28;01mfrom\u001b[39;00m \u001b[38;5;21;01merr\u001b[39;00m\n\u001b[0;32m     79\u001b[0m \u001b[38;5;28;01mreturn\u001b[39;00m \u001b[38;5;28mself\u001b[39m\u001b[38;5;241m.\u001b[39m_paths\n",
      "\u001b[1;31mNoSuchDriverException\u001b[0m: Message: Unable to obtain driver for chrome; For documentation on this error, please visit: https://www.selenium.dev/documentation/webdriver/troubleshooting/errors/driver_location\n"
     ]
    }
   ],
   "source": [
    "chromedriver_path = r\"C:\\Users\\ThinkPad\\OneDrive\\chromedriver-win64\\chromedriver.exe\"  \n",
    "\n",
    "service = ChromeService(executable_path=chromedriver_path)\n",
    "\n",
    "driver_manual = webdriver.Chrome(service=service)\n",
    "\n",
    "url = driver_manual.get(\"https://careerviet.vn/viec-lam/ha-noi-ho-chi-minh-da-nang-l4,8,511-trang-1-vi.html\")\n",
    "\n",
    "expected_url = driver_manual.current_url\n",
    "if expected_url != url:\n",
    "    driver_manual.get(\"https://careerviet.vn/viec-lam/ha-noi-ho-chi-minh-da-nang-l4,8,511-trang-1-vi.html\")"
   ]
  },
  {
   "cell_type": "markdown",
   "id": "1448f56c",
   "metadata": {},
   "source": [
    "### **CONNECT AZURE SERVER**"
   ]
  },
  {
   "cell_type": "code",
   "execution_count": null,
   "id": "fe9bfe5d",
   "metadata": {},
   "outputs": [],
   "source": [
    "server  = 'tcp:server-group-5.database.windows.net'\n",
    "database = 'DatabaseofGroup5'\n",
    "username = 'admin-group-5'\n",
    "password = 'Matkhau123'\n",
    "driver = '{ODBC Driver 18 for SQL Server}'"
   ]
  },
  {
   "cell_type": "markdown",
   "id": "acc1aa48",
   "metadata": {},
   "source": [
    "### **CREATE TABLE**"
   ]
  },
  {
   "cell_type": "code",
   "execution_count": null,
   "id": "c978a423",
   "metadata": {
    "scrolled": false
   },
   "outputs": [],
   "source": [
    "def create_table(connection_string):\n",
    "    try:\n",
    "        conn = pyodbc.connect(connection_string)\n",
    "        cursor = conn.cursor()\n",
    "        print(\"Connected to the database successfully.\")\n",
    "\n",
    "        # Create table query if not exists\n",
    "        create_table_query = \"\"\"\n",
    "        IF NOT EXISTS (SELECT * FROM sys.tables WHERE name = 'Career_3')\n",
    "        BEGIN\n",
    "            CREATE TABLE Career_3 (\n",
    "                ID INT IDENTITY(1,1) PRIMARY KEY,\n",
    "                TITLE NVARCHAR(255),\n",
    "                SALARY NVARCHAR(255),\n",
    "                LOCATION NVARCHAR(255),\n",
    "                OPPORTUNITY NVARCHAR(255),\n",
    "                UPDATE_DATE NVARCHAR(255),  \n",
    "                EMPLOYER NVARCHAR(255),\n",
    "                MAJOR NVARCHAR(255),\n",
    "                HINH_THUC NVARCHAR(255),\n",
    "                KINH_NGHIEM NVARCHAR(255),\n",
    "                CAP_BAC NVARCHAR(255)\n",
    "            );\n",
    "        END\n",
    "        \"\"\"\n",
    "        # Execute query\n",
    "        cursor.execute(create_table_query)\n",
    "        conn.commit()\n",
    "        print(\"Table created.\")\n",
    "        return True  # Success\n",
    "    except Exception as e:\n",
    "        print(f\"Error creating table: {e}\")\n",
    "        return False \n",
    "    finally:\n",
    "        if 'conn' in locals() and conn:\n",
    "            conn.close()  \n"
   ]
  },
  {
   "cell_type": "markdown",
   "id": "a69de9e4",
   "metadata": {},
   "source": [
    "### **INSERT AND STORE**"
   ]
  },
  {
   "cell_type": "code",
   "execution_count": null,
   "id": "b214f0e5",
   "metadata": {},
   "outputs": [],
   "source": [
    "def insert_store(driver_manual, connection_string, start_page=1, max_page=400):\n",
    "    try:\n",
    "        conn = pyodbc.connect(connection_string)\n",
    "        cursor = conn.cursor()\n",
    "        print(\"Database connection established.\")\n",
    "\n",
    "        page = start_page\n",
    "\n",
    "        while page <= max_page:\n",
    "            try:\n",
    "               \n",
    "                driver_manual.get(f\"https://careerviet.vn/viec-lam/ha-noi-ho-chi-minh-da-nang-l4,8,511-trang-{page}-vi.html\")\n",
    "\n",
    "                WebDriverWait(driver_manual, 10).until(\n",
    "                    EC.visibility_of_all_elements_located((By.CSS_SELECTOR, \".title [href]\"))\n",
    "                )\n",
    "\n",
    "                # Extract data\n",
    "                titles = [elem.text for elem in driver_manual.find_elements(By.CSS_SELECTOR, \".title [href]\")]\n",
    "                links = [elem.get_attribute('href') for elem in driver_manual.find_elements(By.CSS_SELECTOR, \".title [href]\")]\n",
    "                salaries = [elem.text for elem in driver_manual.find_elements(By.CSS_SELECTOR, \".salary\")]\n",
    "                locations = [elem.text for elem in driver_manual.find_elements(By.CSS_SELECTOR, \".location\")]\n",
    "                opportunities = [elem.text for elem in driver_manual.find_elements(By.CSS_SELECTOR, \".expire-date\")]\n",
    "                updates = [elem.text for elem in driver_manual.find_elements(By.CSS_SELECTOR, \".time time\")]\n",
    "                employers = [elem.text for elem in driver_manual.find_elements(By.CSS_SELECTOR, \".company-name\")]\n",
    "\n",
    "                # Process each job posting\n",
    "                for i in range(len(titles)):\n",
    "                    title = titles[i] if i < len(titles) else None\n",
    "                    link = links[i] if i < len(links) else None\n",
    "                    salary = salaries[i] if i < len(salaries) else None\n",
    "                    location = locations[i] if i < len(locations) else None\n",
    "                    opportunity = opportunities[i] if i < len(opportunities) else None\n",
    "                    update = updates[i] if i < len(updates) else None\n",
    "                    employer = employers[i] if i < len(employers) else None\n",
    "\n",
    "                    major, hinh_thuc, kinh_nghiem, cap_bac = None, None, None, None\n",
    "\n",
    "                    if link:\n",
    "                        driver_manual.get(link)\n",
    "                        try:\n",
    "                            detail_boxes = driver_manual.find_elements(By.CSS_SELECTOR, \".detail-box.has-background\")\n",
    "\n",
    "                            if detail_boxes:\n",
    "                                major = detail_boxes[0].find_elements(By.TAG_NAME, \"li\")[1].text if len(detail_boxes[0].find_elements(By.TAG_NAME, \"li\")) > 1 else None\n",
    "                                hinh_thuc = detail_boxes[0].find_elements(By.TAG_NAME, \"li\")[2].text if len(detail_boxes[0].find_elements(By.TAG_NAME, \"li\")) > 2 else None\n",
    "\n",
    "                                if len(detail_boxes) > 1:\n",
    "                                    kinh_nghiem = detail_boxes[1].find_elements(By.TAG_NAME, \"li\")[1].text if len(detail_boxes[1].find_elements(By.TAG_NAME, \"li\")) > 1 else None\n",
    "                                    cap_bac = detail_boxes[1].find_elements(By.TAG_NAME, \"li\")[2].text if len(detail_boxes[1].find_elements(By.TAG_NAME, \"li\")) > 2 else None\n",
    "\n",
    "                        except Exception as e:\n",
    "                            print(f\"Error extracting job details from {link}: {e}\")\n",
    "\n",
    "                    try:\n",
    "                        # Insert data into the database\n",
    "                        cursor.execute(\"\"\"\n",
    "                        INSERT INTO Career_3 (TITLE, SALARY, LOCATION, OPPORTUNITY, UPDATE_DATE, EMPLOYER, MAJOR, HINH_THUC, KINH_NGHIEM, CAP_BAC)\n",
    "                        VALUES (?, ?, ?, ?, ?, ?, ?, ?, ?, ?)\n",
    "                        \"\"\",\n",
    "                        title, salary, location, opportunity, update, employer, major, hinh_thuc, kinh_nghiem, cap_bac\n",
    "                        )\n",
    "                        conn.commit()\n",
    "                    except Exception as e:\n",
    "                        print(f\"Error inserting data into database: {e}\")\n",
    "\n",
    "                print(f\"Page {page}: Successfully processed.\")\n",
    "\n",
    "            except Exception as e:\n",
    "                print(f\"Error processing page {page}: {e}\")\n",
    "\n",
    "            page += 1\n",
    "\n",
    "        print(\"Scraping completed.\")\n",
    "\n",
    "    except Exception as e:\n",
    "        print(f\"Database connection error: {e}\")\n",
    "\n",
    "    finally:\n",
    "        if 'conn' in locals() and conn:\n",
    "            conn.close()\n",
    "            print(\"Database connection closed.\")\n"
   ]
  },
  {
   "cell_type": "markdown",
   "id": "c99047df",
   "metadata": {},
   "source": [
    "## **CALL FUNCTION**"
   ]
  },
  {
   "cell_type": "code",
   "execution_count": null,
   "id": "3512239a",
   "metadata": {},
   "outputs": [],
   "source": [
    "connection_string = f\"DRIVER={driver};SERVER={server};DATABASE={database};UID={username};PWD={password}\"\n",
    "create_table(connection_string) \n",
    "insert_store(driver_manual, connection_string, start_page=1, max_page=5)  "
   ]
  }
 ],
 "metadata": {
  "kernelspec": {
   "display_name": "Python 3 (ipykernel)",
   "language": "python",
   "name": "python3"
  },
  "language_info": {
   "codemirror_mode": {
    "name": "ipython",
    "version": 3
   },
   "file_extension": ".py",
   "mimetype": "text/x-python",
   "name": "python",
   "nbconvert_exporter": "python",
   "pygments_lexer": "ipython3",
   "version": "3.11.5"
  }
 },
 "nbformat": 4,
 "nbformat_minor": 5
}
