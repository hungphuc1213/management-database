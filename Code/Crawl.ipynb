{
 "cells": [
  {
   "cell_type": "markdown",
   "id": "81d060f9",
   "metadata": {},
   "source": [
    "## **PIP INSTALL LIBRARY**"
   ]
  },
  {
   "cell_type": "code",
   "execution_count": null,
   "id": "bfdce822",
   "metadata": {},
   "outputs": [],
   "source": [
    "pip install selenium"
   ]
  },
  {
   "cell_type": "code",
   "execution_count": null,
   "id": "224f16d7",
   "metadata": {},
   "outputs": [],
   "source": [
    "pip install webdriver-manager"
   ]
  },
  {
   "cell_type": "markdown",
   "id": "50c02458",
   "metadata": {},
   "source": [
    "## **IMPORT LIBRARY**"
   ]
  },
  {
   "cell_type": "code",
   "execution_count": null,
   "id": "47e60f02",
   "metadata": {},
   "outputs": [],
   "source": [
    "import pandas as pd\n",
    "from selenium.webdriver.common.by import By\n",
    "from selenium.webdriver.support.ui import WebDriverWait\n",
    "from selenium.webdriver.support import expected_conditions as EC\n",
    "from selenium import webdriver\n",
    "from selenium.webdriver.chrome.service import Service as ChromeService\n",
    "from selenium.webdriver.chrome.options import Options\n",
    "import pyodbc\n",
    "import time"
   ]
  },
  {
   "cell_type": "markdown",
   "id": "65369549",
   "metadata": {},
   "source": [
    "## **PROCESSING WEB CRAWLING**"
   ]
  },
  {
   "cell_type": "markdown",
   "id": "17615a1c",
   "metadata": {},
   "source": [
    "### **CONNECT WEBSITE**"
   ]
  },
  {
   "cell_type": "code",
   "execution_count": null,
   "id": "e0bab063",
   "metadata": {},
   "outputs": [],
   "source": [
    "chromedriver_path = r\"C:\\Users\\ThinkPad\\OneDrive\\chromedriver-win64\\chromedriver.exe\"  \n",
    "\n",
    "service = ChromeService(executable_path=chromedriver_path)\n",
    "\n",
    "driver_manual = webdriver.Chrome(service=service)\n",
    "\n",
    "url = driver_manual.get(\"https://careerviet.vn/viec-lam/ha-noi-ho-chi-minh-da-nang-l4,8,511-trang-1-vi.html\")\n",
    "\n",
    "expected_url = driver_manual.current_url\n",
    "if expected_url != url:\n",
    "    driver_manual.get(\"https://careerviet.vn/viec-lam/ha-noi-ho-chi-minh-da-nang-l4,8,511-trang-1-vi.html\")"
   ]
  },
  {
   "cell_type": "markdown",
   "id": "1448f56c",
   "metadata": {},
   "source": [
    "### **CONNECT AZURE SERVER**"
   ]
  },
  {
   "cell_type": "code",
   "execution_count": null,
   "id": "fe9bfe5d",
   "metadata": {},
   "outputs": [],
   "source": [
    "server  = 'tcp:server-group-5.database.windows.net'\n",
    "database = 'DatabaseofGroup5'\n",
    "username = 'admin-group-5'\n",
    "password = 'Matkhau123'\n",
    "driver = '{ODBC Driver 18 for SQL Server}'"
   ]
  },
  {
   "cell_type": "markdown",
   "id": "acc1aa48",
   "metadata": {},
   "source": [
    "### **CREATE TABLE**"
   ]
  },
  {
   "cell_type": "code",
   "execution_count": null,
   "id": "c978a423",
   "metadata": {
    "scrolled": false
   },
   "outputs": [],
   "source": [
    "def create_table(connection_string):\n",
    "    try:\n",
    "        conn = pyodbc.connect(connection_string)\n",
    "        cursor = conn.cursor()\n",
    "        print(\"Connected to the database successfully.\")\n",
    "\n",
    "        # Create table query if not exists\n",
    "        create_table_query = \"\"\"\n",
    "        IF NOT EXISTS (SELECT * FROM sys.tables WHERE name = 'Career_3')\n",
    "        BEGIN\n",
    "            CREATE TABLE Career_3 (\n",
    "                ID INT IDENTITY(1,1) PRIMARY KEY,\n",
    "                TITLE NVARCHAR(255),\n",
    "                SALARY NVARCHAR(255),\n",
    "                LOCATION NVARCHAR(255),\n",
    "                OPPORTUNITY NVARCHAR(255),\n",
    "                UPDATE_DATE NVARCHAR(255),  \n",
    "                EMPLOYER NVARCHAR(255),\n",
    "                MAJOR NVARCHAR(255),\n",
    "                HINH_THUC NVARCHAR(255),\n",
    "                KINH_NGHIEM NVARCHAR(255),\n",
    "                CAP_BAC NVARCHAR(255)\n",
    "            );\n",
    "        END\n",
    "        \"\"\"\n",
    "        # Execute query\n",
    "        cursor.execute(create_table_query)\n",
    "        conn.commit()\n",
    "        print(\"Table created.\")\n",
    "        return True  # Success\n",
    "    except Exception as e:\n",
    "        print(f\"Error creating table: {e}\")\n",
    "        return False \n",
    "    finally:\n",
    "        if 'conn' in locals() and conn:\n",
    "            conn.close()  \n"
   ]
  },
  {
   "cell_type": "markdown",
   "id": "a69de9e4",
   "metadata": {},
   "source": [
    "### **INSERT AND STORE**"
   ]
  },
  {
   "cell_type": "code",
   "execution_count": null,
   "id": "b214f0e5",
   "metadata": {},
   "outputs": [],
   "source": [
    "def insert_store(driver_manual, connection_string, start_page=1, max_page=400):\n",
    "    try:\n",
    "        conn = pyodbc.connect(connection_string)\n",
    "        cursor = conn.cursor()\n",
    "        print(\"Database connection established.\")\n",
    "\n",
    "        page = start_page\n",
    "\n",
    "        while page <= max_page:\n",
    "            try:\n",
    "               \n",
    "                driver_manual.get(f\"https://careerviet.vn/viec-lam/ha-noi-ho-chi-minh-da-nang-l4,8,511-trang-{page}-vi.html\")\n",
    "\n",
    "                WebDriverWait(driver_manual, 10).until(\n",
    "                    EC.visibility_of_all_elements_located((By.CSS_SELECTOR, \".title [href]\"))\n",
    "                )\n",
    "\n",
    "                # Extract data\n",
    "                titles = [elem.text for elem in driver_manual.find_elements(By.CSS_SELECTOR, \".title [href]\")]\n",
    "                links = [elem.get_attribute('href') for elem in driver_manual.find_elements(By.CSS_SELECTOR, \".title [href]\")]\n",
    "                salaries = [elem.text for elem in driver_manual.find_elements(By.CSS_SELECTOR, \".salary\")]\n",
    "                locations = [elem.text for elem in driver_manual.find_elements(By.CSS_SELECTOR, \".location\")]\n",
    "                opportunities = [elem.text for elem in driver_manual.find_elements(By.CSS_SELECTOR, \".expire-date\")]\n",
    "                updates = [elem.text for elem in driver_manual.find_elements(By.CSS_SELECTOR, \".time time\")]\n",
    "                employers = [elem.text for elem in driver_manual.find_elements(By.CSS_SELECTOR, \".company-name\")]\n",
    "\n",
    "                # Process each job posting\n",
    "                for i in range(len(titles)):\n",
    "                    title = titles[i] if i < len(titles) else None\n",
    "                    link = links[i] if i < len(links) else None\n",
    "                    salary = salaries[i] if i < len(salaries) else None\n",
    "                    location = locations[i] if i < len(locations) else None\n",
    "                    opportunity = opportunities[i] if i < len(opportunities) else None\n",
    "                    update = updates[i] if i < len(updates) else None\n",
    "                    employer = employers[i] if i < len(employers) else None\n",
    "\n",
    "                    major, hinh_thuc, kinh_nghiem, cap_bac = None, None, None, None\n",
    "\n",
    "                    if link:\n",
    "                        driver_manual.get(link)\n",
    "                        try:\n",
    "                            detail_boxes = driver_manual.find_elements(By.CSS_SELECTOR, \".detail-box.has-background\")\n",
    "\n",
    "                            if detail_boxes:\n",
    "                                major = detail_boxes[0].find_elements(By.TAG_NAME, \"li\")[1].text if len(detail_boxes[0].find_elements(By.TAG_NAME, \"li\")) > 1 else None\n",
    "                                hinh_thuc = detail_boxes[0].find_elements(By.TAG_NAME, \"li\")[2].text if len(detail_boxes[0].find_elements(By.TAG_NAME, \"li\")) > 2 else None\n",
    "\n",
    "                                if len(detail_boxes) > 1:\n",
    "                                    kinh_nghiem = detail_boxes[1].find_elements(By.TAG_NAME, \"li\")[1].text if len(detail_boxes[1].find_elements(By.TAG_NAME, \"li\")) > 1 else None\n",
    "                                    cap_bac = detail_boxes[1].find_elements(By.TAG_NAME, \"li\")[2].text if len(detail_boxes[1].find_elements(By.TAG_NAME, \"li\")) > 2 else None\n",
    "\n",
    "                        except Exception as e:\n",
    "                            print(f\"Error extracting job details from {link}: {e}\")\n",
    "\n",
    "                    try:\n",
    "                        # Insert data into the database\n",
    "                        cursor.execute(\"\"\"\n",
    "                        INSERT INTO Career_3 (TITLE, SALARY, LOCATION, OPPORTUNITY, UPDATE_DATE, EMPLOYER, MAJOR, HINH_THUC, KINH_NGHIEM, CAP_BAC)\n",
    "                        VALUES (?, ?, ?, ?, ?, ?, ?, ?, ?, ?)\n",
    "                        \"\"\",\n",
    "                        title, salary, location, opportunity, update, employer, major, hinh_thuc, kinh_nghiem, cap_bac\n",
    "                        )\n",
    "                        conn.commit()\n",
    "                    except Exception as e:\n",
    "                        print(f\"Error inserting data into database: {e}\")\n",
    "\n",
    "                print(f\"Page {page}: Successfully processed.\")\n",
    "\n",
    "            except Exception as e:\n",
    "                print(f\"Error processing page {page}: {e}\")\n",
    "\n",
    "            page += 1\n",
    "\n",
    "        print(\"Scraping completed.\")\n",
    "\n",
    "    except Exception as e:\n",
    "        print(f\"Database connection error: {e}\")\n",
    "\n",
    "    finally:\n",
    "        if 'conn' in locals() and conn:\n",
    "            conn.close()\n",
    "            print(\"Database connection closed.\")\n"
   ]
  },
  {
   "cell_type": "markdown",
   "id": "c99047df",
   "metadata": {},
   "source": [
    "## **CALL FUNCTION**"
   ]
  },
  {
   "cell_type": "code",
   "execution_count": null,
   "id": "3512239a",
   "metadata": {},
   "outputs": [],
   "source": [
    "connection_string = f\"DRIVER={driver};SERVER={server};DATABASE={database};UID={username};PWD={password}\"\n",
    "create_table(connection_string) \n",
    "insert_store(driver_manual, connection_string, start_page=1, max_page=5)  "
   ]
  }
 ],
 "metadata": {
  "kernelspec": {
   "display_name": "Python 3 (ipykernel)",
   "language": "python",
   "name": "python3"
  },
  "language_info": {
   "codemirror_mode": {
    "name": "ipython",
    "version": 3
   },
   "file_extension": ".py",
   "mimetype": "text/x-python",
   "name": "python",
   "nbconvert_exporter": "python",
   "pygments_lexer": "ipython3",
   "version": "3.11.5"
  }
 },
 "nbformat": 4,
 "nbformat_minor": 5
}
